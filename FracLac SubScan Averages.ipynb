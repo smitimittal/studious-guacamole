{
 "cells": [
  {
   "cell_type": "code",
   "execution_count": 4,
   "metadata": {},
   "outputs": [
    {
     "name": "stdout",
     "output_type": "stream",
     "text": [
      "20190617_CO_SCAR_1A2_ch00 :  0.494615512465374\n",
      "20190617_CO_SCAR_1A_ch00 :  0.4756977272727275\n",
      "20190617_CO_SCAR_1B_ch00 :  0.5425917553191493\n",
      "20190617_CO_SCAR_2A_ch00 :  0.49032110552763836\n",
      "20190617_CO_SCAR_2B2_ch00 :  0.5049466480446932\n",
      "20190617_CO_SCAR_2B_ch00 :  0.5100133928571433\n",
      "20190617_CO_SCAR_3A2_ch00 :  0.5044813380281689\n",
      "20190617_CO_SCAR_3A3_ch00 :  0.5157706896551725\n",
      "20190617_CO_SCAR_3A_ch00 :  0.47242651162790705\n",
      "20190617_CO_SCAR_3B2_ch00 :  0.4419351694915252\n",
      "20190617_CO_SCAR_3B_ch00 :  0.5056550488599351\n",
      "20190617_CO_SCAR_4A2_ch00 :  0.4597596363636363\n",
      "20190617_CO_SCAR_4A_ch00 :  0.529450831353919\n",
      "20190617_CO_SCAR_4B_ch00 :  0.5343968292682925\n",
      "20190617_CO_SCAR_5A_ch00 :  0.49310400000000004\n",
      "20190617_CO_SCAR_5B_ch00 :  0.480635866261398\n",
      "20190617_HTS_2A_ch00 :  0.4857029739776951\n",
      "20190617_HTS_2B_ch00 :  0.5199393518518521\n",
      "20190617_HTS_3A_ch00 :  0.4808417808219181\n",
      "20190617_HTS_3B_ch00 :  0.48830785714285724\n",
      "20190617_HTS_4A_ch00 :  0.4827919093851133\n",
      "20190617_HTS_4B_ch00 :  0.4487873684210526\n",
      "20190617_HTS_5A_ch00 :  0.49244062499999985\n",
      "20190617_HTS_5B2_ch00 :  0.46525151515151514\n",
      "20190617_HTS_5B_ch00 :  0.4918744588744586\n",
      "20190617_HTS_A_ch00 :  0.6123116772823779\n",
      "20190617_HTS_B_ch00 :  0.5343093181818181\n"
     ]
    }
   ],
   "source": [
    "import pandas as pd\n",
    "from itertools import groupby\n",
    "from collections import defaultdict\n",
    "\n",
    "colnames = ['name', 'val']\n",
    "data = pd.read_csv('/Users/autumngreco/Desktop/Mouse_HTS/hts_lac.csv', names=colnames)\n",
    "\n",
    "#print(data.name.tolist())\n",
    "#print(data.val.tolist())\n",
    "\n",
    "name_list = data.name.tolist()\n",
    "val_list = data.val.tolist()\n",
    "\n",
    "name_to_vals = defaultdict(list)\n",
    "\n",
    "for i, name in enumerate(name_list):\n",
    "    idx = name.find('.tif')\n",
    "    substring = name[0:idx]\n",
    "    name_to_vals[substring].append(val_list[i])\n",
    "\n",
    "for key, val in name_to_vals.items():\n",
    "    print(key, \": \", sum(val)/len(val))\n"
   ]
  },
  {
   "cell_type": "code",
   "execution_count": null,
   "metadata": {},
   "outputs": [],
   "source": [
    "\n"
   ]
  },
  {
   "cell_type": "code",
   "execution_count": null,
   "metadata": {},
   "outputs": [],
   "source": []
  },
  {
   "cell_type": "code",
   "execution_count": null,
   "metadata": {},
   "outputs": [],
   "source": []
  }
 ],
 "metadata": {
  "kernelspec": {
   "display_name": "Python 3",
   "language": "python",
   "name": "python3"
  },
  "language_info": {
   "codemirror_mode": {
    "name": "ipython",
    "version": 3
   },
   "file_extension": ".py",
   "mimetype": "text/x-python",
   "name": "python",
   "nbconvert_exporter": "python",
   "pygments_lexer": "ipython3",
   "version": "3.7.6"
  }
 },
 "nbformat": 4,
 "nbformat_minor": 4
}
